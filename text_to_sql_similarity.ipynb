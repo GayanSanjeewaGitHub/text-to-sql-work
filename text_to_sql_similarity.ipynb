{
 "cells": [
  {
   "cell_type": "markdown",
   "metadata": {},
   "source": [
    "# Text to SQL Similarity\n",
    "\n",
    "The purpose of this task is to asses your independent work and familiarity with data analysis, Machine Learning and Natural Language Processing techniques. Feel free to use any libraries you want, any models necessary and to define any additional functions you might need. \n",
    "\n",
    "You are given a dataset with questions and their corresponding SQL queries.\n",
    "\n",
    "Tasks:\n",
    "1. Define 2 different similarity metrics between a question and a SQL query (your choice - be creative). The metrics should use different techniques and be based on different models.\n",
    "2. Analyze the similarity metrics you defined above.\n",
    "    \n",
    "    * Define plots to visualize the performance of the similarity metrics (your choice - be creative)\n",
    "    * Define a threshold (and how to choose it) for the similarity metrics to determine if a question is similar to a SQL query.\n",
    "    * Calculate the precision, recall, and F1 score per similarity metric (for the threshold you defined) or other metrics of your choice that will help you compare between the metrics.\n",
    "3. Summarize your findings and conclusions.\n",
    "\n",
    "\n"
   ]
  },
  {
   "cell_type": "code",
   "execution_count": 67,
   "metadata": {},
   "outputs": [],
   "source": [
    "import pandas as pd\n",
    "import numpy as np\n",
    "import os\n",
    "\n",
    "from tabulate import tabulate\n",
    "from dotenv import load_dotenv\n",
    "from datasets import Dataset\n",
    "from ragas.llms import LangchainLLMWrapper\n",
    "from ragas.embeddings import LangchainEmbeddingsWrapper\n",
    "from langchain_openai import ChatOpenAI, OpenAIEmbeddings\n",
    "from ragas.metrics import LLMContextRecall, Faithfulness, FactualCorrectness, SemanticSimilarity\n",
    "from ragas import evaluate\n",
    "\n",
    "load_dotenv()\n",
    "OPENAI_API_KEY=os.getenv(\"OPENAI_API_KEY\")"
   ]
  },
  {
   "cell_type": "code",
   "execution_count": 68,
   "metadata": {},
   "outputs": [
    {
     "data": {
      "text/html": [
       "<div>\n",
       "<style scoped>\n",
       "    .dataframe tbody tr th:only-of-type {\n",
       "        vertical-align: middle;\n",
       "    }\n",
       "\n",
       "    .dataframe tbody tr th {\n",
       "        vertical-align: top;\n",
       "    }\n",
       "\n",
       "    .dataframe thead th {\n",
       "        text-align: right;\n",
       "    }\n",
       "</style>\n",
       "<table border=\"1\" class=\"dataframe\">\n",
       "  <thead>\n",
       "    <tr style=\"text-align: right;\">\n",
       "      <th></th>\n",
       "      <th>inquiry_id</th>\n",
       "      <th>question</th>\n",
       "      <th>sql</th>\n",
       "    </tr>\n",
       "  </thead>\n",
       "  <tbody>\n",
       "    <tr>\n",
       "      <th>0</th>\n",
       "      <td>inquiry_MTzoIbMP</td>\n",
       "      <td>In what countries are most of our jobs offered?</td>\n",
       "      <td>SELECT t.country_name AS Country, COUNT(*) AS ...</td>\n",
       "    </tr>\n",
       "    <tr>\n",
       "      <th>1</th>\n",
       "      <td>inquiry_aiTiTTpt</td>\n",
       "      <td>What is the churn rate of a scout after trying...</td>\n",
       "      <td>WITH UserData AS (\\n  SELECT\\n    ur.user_id,\\...</td>\n",
       "    </tr>\n",
       "    <tr>\n",
       "      <th>2</th>\n",
       "      <td>inquiry_nzDQlAKx</td>\n",
       "      <td>What is the average time to fulfill a job?</td>\n",
       "      <td>WITH hiredJobIds AS( SELECT job_id, date FROM(...</td>\n",
       "    </tr>\n",
       "    <tr>\n",
       "      <th>3</th>\n",
       "      <td>inquiry_gJUTBJjF</td>\n",
       "      <td>How does the average time to fill a job vary b...</td>\n",
       "      <td>WITH hiredJobs AS( SELECT *, FROM( SELECT even...</td>\n",
       "    </tr>\n",
       "    <tr>\n",
       "      <th>4</th>\n",
       "      <td>inquiry_wTCHJIzI</td>\n",
       "      <td>What is the trend in activation time for scouts?</td>\n",
       "      <td>\\nDECLARE start_date DATE DEFAULT '2024-11-22'...</td>\n",
       "    </tr>\n",
       "    <tr>\n",
       "      <th>...</th>\n",
       "      <td>...</td>\n",
       "      <td>...</td>\n",
       "      <td>...</td>\n",
       "    </tr>\n",
       "    <tr>\n",
       "      <th>70</th>\n",
       "      <td>inquiry_dXUxZMKU</td>\n",
       "      <td>Which jobs have been posted to date?</td>\n",
       "      <td>SELECT j.id AS job_id, c.name AS company_name,...</td>\n",
       "    </tr>\n",
       "    <tr>\n",
       "      <th>71</th>\n",
       "      <td>inquiry_wMMvZVYt</td>\n",
       "      <td>What is the average number of candidates rejec...</td>\n",
       "      <td>SELECT u.name, COUNT(DISTINCT ja.id) AS jobs_r...</td>\n",
       "    </tr>\n",
       "    <tr>\n",
       "      <th>72</th>\n",
       "      <td>inquiry_iIqSbznQ</td>\n",
       "      <td>How Often Is A Job Posted?</td>\n",
       "      <td>WITH JobPostDates AS(   SELECT      DATE(publi...</td>\n",
       "    </tr>\n",
       "    <tr>\n",
       "      <th>73</th>\n",
       "      <td>inquiry_zZXzZGVE</td>\n",
       "      <td>How Many Candidates Have Been Placed In Jobs S...</td>\n",
       "      <td>SELECT count(distinct id) AS `Placed_Candidate...</td>\n",
       "    </tr>\n",
       "    <tr>\n",
       "      <th>74</th>\n",
       "      <td>inquiry_QhdkyxjB</td>\n",
       "      <td>Get The List Of Jobs That Have Been Open For M...</td>\n",
       "      <td>SELECT id, title, published_at FROM `draftboar...</td>\n",
       "    </tr>\n",
       "  </tbody>\n",
       "</table>\n",
       "<p>75 rows × 3 columns</p>\n",
       "</div>"
      ],
      "text/plain": [
       "          inquiry_id                                           question  \\\n",
       "0   inquiry_MTzoIbMP    In what countries are most of our jobs offered?   \n",
       "1   inquiry_aiTiTTpt  What is the churn rate of a scout after trying...   \n",
       "2   inquiry_nzDQlAKx         What is the average time to fulfill a job?   \n",
       "3   inquiry_gJUTBJjF  How does the average time to fill a job vary b...   \n",
       "4   inquiry_wTCHJIzI   What is the trend in activation time for scouts?   \n",
       "..               ...                                                ...   \n",
       "70  inquiry_dXUxZMKU               Which jobs have been posted to date?   \n",
       "71  inquiry_wMMvZVYt  What is the average number of candidates rejec...   \n",
       "72  inquiry_iIqSbznQ                         How Often Is A Job Posted?   \n",
       "73  inquiry_zZXzZGVE  How Many Candidates Have Been Placed In Jobs S...   \n",
       "74  inquiry_QhdkyxjB  Get The List Of Jobs That Have Been Open For M...   \n",
       "\n",
       "                                                  sql  \n",
       "0   SELECT t.country_name AS Country, COUNT(*) AS ...  \n",
       "1   WITH UserData AS (\\n  SELECT\\n    ur.user_id,\\...  \n",
       "2   WITH hiredJobIds AS( SELECT job_id, date FROM(...  \n",
       "3   WITH hiredJobs AS( SELECT *, FROM( SELECT even...  \n",
       "4   \\nDECLARE start_date DATE DEFAULT '2024-11-22'...  \n",
       "..                                                ...  \n",
       "70  SELECT j.id AS job_id, c.name AS company_name,...  \n",
       "71  SELECT u.name, COUNT(DISTINCT ja.id) AS jobs_r...  \n",
       "72  WITH JobPostDates AS(   SELECT      DATE(publi...  \n",
       "73  SELECT count(distinct id) AS `Placed_Candidate...  \n",
       "74  SELECT id, title, published_at FROM `draftboar...  \n",
       "\n",
       "[75 rows x 3 columns]"
      ]
     },
     "execution_count": 68,
     "metadata": {},
     "output_type": "execute_result"
    }
   ],
   "source": [
    "df = pd.read_csv('data.csv')\n",
    "df\n",
    " "
   ]
  },
  {
   "cell_type": "code",
   "execution_count": 69,
   "metadata": {},
   "outputs": [
    {
     "name": "stdout",
     "output_type": "stream",
     "text": [
      "Number of rows: 75\n",
      "Number of columns: 3\n",
      "75\n",
      "75\n",
      "74\n"
     ]
    }
   ],
   "source": [
    "\n",
    "print(f\"Number of rows: {df.shape[0]}\")\n",
    "print(f\"Number of columns: {df.shape[1]}\")\n",
    "print(df[\"inquiry_id\"].unique().size)\n",
    "print(df[\"question\"].unique().size)\n",
    "print(df[\"sql\"].unique().size)\n",
    "\n",
    "df= df.iloc[:2]\n",
    "\n",
    "\n"
   ]
  },
  {
   "cell_type": "code",
   "execution_count": 70,
   "metadata": {},
   "outputs": [
    {
     "name": "stdout",
     "output_type": "stream",
     "text": [
      "inquiry_id    0\n",
      "question      0\n",
      "sql           0\n",
      "dtype: int64\n"
     ]
    },
    {
     "name": "stderr",
     "output_type": "stream",
     "text": [
      "C:\\Users\\MSI KATANA\\AppData\\Local\\Temp\\ipykernel_17376\\760036421.py:1: FutureWarning: DataFrame.applymap has been deprecated. Use DataFrame.map instead.\n",
      "  df = df.applymap(lambda x: x.strip() if isinstance(x, str) else (\"\" if pd.isnull(x) else x))\n"
     ]
    }
   ],
   "source": [
    "df = df.applymap(lambda x: x.strip() if isinstance(x, str) else (\"\" if pd.isnull(x) else x))\n",
    "print (df.isnull().sum())"
   ]
  },
  {
   "cell_type": "code",
   "execution_count": 71,
   "metadata": {},
   "outputs": [
    {
     "name": "stdout",
     "output_type": "stream",
     "text": [
      "+----+------------------+------------------------------------------------------------------------------+--------------------------------------------------------------------------------------------------------------------------------------------------------------------------------------------------------------------------------------------------------------------------------------------------------------------------------------------------------------------------------------------------------------------------------------------------------------------------------------------------------------------------------------------------------------------------------------------------------------------------------------------------------------------------------------------------------------------------------------------------------------------------------------------------------------------------------------------------------------------------------------------------------------------------------------------------------------------------------------------------------------------------------------------------------------------------------------------------------------------------------------------------------------------------------------------------------------------------------------------------+\n",
      "| id |    inquiry_id    |                                   question                                   |                                                                                                                                                                                                                                                                                                                                                                                                                                                                                                                                                                                                                       sql                                                                                                                                                                                                                                                                                                                                                                                                                                                                                                                                                                                                                        |\n",
      "+----+------------------+------------------------------------------------------------------------------+--------------------------------------------------------------------------------------------------------------------------------------------------------------------------------------------------------------------------------------------------------------------------------------------------------------------------------------------------------------------------------------------------------------------------------------------------------------------------------------------------------------------------------------------------------------------------------------------------------------------------------------------------------------------------------------------------------------------------------------------------------------------------------------------------------------------------------------------------------------------------------------------------------------------------------------------------------------------------------------------------------------------------------------------------------------------------------------------------------------------------------------------------------------------------------------------------------------------------------------------------+\n",
      "| 1  | inquiry_MTzoIbMP |               In what countries are most of our jobs offered?                |                                                                                                                                                                                                                                                                                                                                                                                                                                                                              SELECT t.country_name AS Country, COUNT(*) AS Job_Count FROM `draftboard-368620.JEDIFY.job_locations` AS t WHERE t.country_name IS NOT NULL AND t.country_name <> '' AND t.created_at >= '2024-01-01' AND t.created_at < '2024-01-20' GROUP BY t.country_name ORDER BY Job_Count DESC                                                                                                                                                                                                                                                                                                                                                                                                                                                                               |\n",
      "| 2  | inquiry_aiTiTTpt | What is the churn rate of a scout after trying to fill their first position? | WITH UserData AS (\\n  SELECT\\n    ur.user_id,\\n    MAX(s.last_session_date) AS last_session_date,\\n    COUNT(DISTINCT a.id) AS applications,\\n    COUNT(DISTINCT ur.id) AS roles_num\\n  FROM\\n    `draftboard-368620.JEDIFY.user_roles` ur\\n  JOIN `JEDIFY.job_applications` a ON ur.user_id = a.scout_id\\n  LEFT JOIN `draftboard-368620.JEDIFY.jobs` j ON a.job_id = j.id\\n  LEFT JOIN `draftboard-368620.JEDIFY.company_industries` ci ON j.company_id = ci.company_id\\n  JOIN (\\n    SELECT DISTINCT\\n      JSON_EXTRACT_SCALAR(DATA, '$.dms.scout_id') AS scout_id,\\n      MAX(DATE(created_at)) AS last_session_date\\nFROM `draftboard-368620.JEDIFY.analytic_events` ae\\n    WHERE created_at >= '2024-11-22' AND created_at < '2024-11-29'\\n    GROUP BY JSON_EXTRACT_SCALAR(DATA, '$.dms.scout_id')\\n  ) s ON s.scout_id = ur.user_id\\n  WHERE ur.role = 10\\n  GROUP BY ur.user_id\\n  HAVING roles_num = 1\\n),\\nChurn AS (\\n  SELECT\\n    COUNT(*) AS churn_count\\n  FROM\\n    UserData\\n  WHERE\\n    applications = 1\\n    AND DATE_ADD(last_session_date, INTERVAL 30 DAY) < CURRENT_DATE()\\n)\\nSELECT\\n  SAFE_DIVIDE((SELECT churn_count FROM Churn), COUNT(DISTINCT user_id)) * 100 AS churn_rate_after_first_app\\nFROM UserData;\\n |\n",
      "+----+------------------+------------------------------------------------------------------------------+--------------------------------------------------------------------------------------------------------------------------------------------------------------------------------------------------------------------------------------------------------------------------------------------------------------------------------------------------------------------------------------------------------------------------------------------------------------------------------------------------------------------------------------------------------------------------------------------------------------------------------------------------------------------------------------------------------------------------------------------------------------------------------------------------------------------------------------------------------------------------------------------------------------------------------------------------------------------------------------------------------------------------------------------------------------------------------------------------------------------------------------------------------------------------------------------------------------------------------------------------+\n"
     ]
    }
   ],
   "source": [
    "id_map = {}\n",
    "counter = 1\n",
    "\n",
    "# Step 2: Generate IDs for each row based on inquiry_id\n",
    "def get_or_assign_id(inquiry):\n",
    "    global counter\n",
    "    if inquiry not in id_map:\n",
    "        id_map[inquiry] = counter\n",
    "        counter += 1\n",
    "    return id_map[inquiry]\n",
    "\n",
    "# Add the new 'id' column\n",
    "df[\"id\"] = df[\"inquiry_id\"].apply(get_or_assign_id)\n",
    "\n",
    "column_order = [\"id\", \"inquiry_id\", \"question\", \"sql\"]\n",
    "df = df[column_order]\n",
    "print(tabulate(df, headers='keys', tablefmt='pretty', showindex=False))"
   ]
  },
  {
   "cell_type": "code",
   "execution_count": 74,
   "metadata": {},
   "outputs": [
    {
     "name": "stderr",
     "output_type": "stream",
     "text": [
      "Evaluating:  29%|██▊       | 4/14 [00:02<00:04,  2.32it/s]No statements were generated from the answer.\n",
      "Evaluating:  57%|█████▋    | 8/14 [00:03<00:01,  3.27it/s]No statements were generated from the answer.\n",
      "Evaluating:  71%|███████▏  | 10/14 [00:07<00:05,  1.40s/it]Exception raised in Job[1]: TypeError(ufunc 'invert' not supported for the input types, and the inputs could not be safely coerced to any supported types according to the casting rule ''safe'')\n",
      "Evaluating:  86%|████████▌ | 12/14 [00:09<00:02,  1.26s/it]Exception raised in Job[0]: BadRequestError(Error code: 400 - {'error': {'message': \"This model's maximum context length is 8192 tokens. However, your messages resulted in 8273 tokens. Please reduce the length of the messages.\", 'type': 'invalid_request_error', 'param': 'messages', 'code': 'context_length_exceeded'}})\n",
      "Evaluating:  93%|█████████▎| 13/14 [00:10<00:01,  1.11s/it]Exception raised in Job[8]: TypeError(ufunc 'invert' not supported for the input types, and the inputs could not be safely coerced to any supported types according to the casting rule ''safe'')\n",
      "Evaluating: 100%|██████████| 14/14 [00:14<00:00,  1.03s/it]\n"
     ]
    }
   ],
   "source": [
    "from ragas.metrics import (\n",
    "    faithfulness,\n",
    "    answer_relevancy,\n",
    "    context_recall,\n",
    "    context_precision,\n",
    ")\n",
    "\n",
    "df[\"retrieved_contexts\"] = df[\"sql\"].apply(lambda x: [x])  \n",
    "df[\"reference\"] = df[\"question\"]\n",
    "df[\"response\"] = \" \"\n",
    " \n",
    "dataset = Dataset.from_pandas(df)\n",
    "\n",
    "evaluator_llm = LangchainLLMWrapper(ChatOpenAI(model=\"gpt-4\"))\n",
    "evaluator_embeddings = LangchainEmbeddingsWrapper(OpenAIEmbeddings())\n",
    " \n",
    "metrics = [\n",
    "    LLMContextRecall(llm=evaluator_llm),\n",
    "    FactualCorrectness(llm=evaluator_llm),\n",
    "    Faithfulness(llm=evaluator_llm),\n",
    "    SemanticSimilarity(embeddings=evaluator_embeddings),\n",
    "    context_precision ,\n",
    "    answer_relevancy,\n",
    "    context_recall  \n",
    "]\n",
    "\n",
    "\n",
    "results = evaluate(dataset=dataset, metrics=metrics)\n",
    "df_eval = results.to_pandas()\n",
    " \n"
   ]
  },
  {
   "cell_type": "code",
   "execution_count": 75,
   "metadata": {},
   "outputs": [
    {
     "data": {
      "text/html": [
       "<div>\n",
       "<style scoped>\n",
       "    .dataframe tbody tr th:only-of-type {\n",
       "        vertical-align: middle;\n",
       "    }\n",
       "\n",
       "    .dataframe tbody tr th {\n",
       "        vertical-align: top;\n",
       "    }\n",
       "\n",
       "    .dataframe thead th {\n",
       "        text-align: right;\n",
       "    }\n",
       "</style>\n",
       "<table border=\"1\" class=\"dataframe\">\n",
       "  <thead>\n",
       "    <tr style=\"text-align: right;\">\n",
       "      <th></th>\n",
       "      <th>user_input</th>\n",
       "      <th>retrieved_contexts</th>\n",
       "      <th>response</th>\n",
       "      <th>reference</th>\n",
       "      <th>context_recall</th>\n",
       "      <th>factual_correctness</th>\n",
       "      <th>faithfulness</th>\n",
       "      <th>semantic_similarity</th>\n",
       "      <th>context_precision</th>\n",
       "      <th>answer_relevancy</th>\n",
       "    </tr>\n",
       "  </thead>\n",
       "  <tbody>\n",
       "    <tr>\n",
       "      <th>0</th>\n",
       "      <td>In what countries are most of our jobs offered?</td>\n",
       "      <td>[SELECT t.country_name AS Country, COUNT(*) AS...</td>\n",
       "      <td></td>\n",
       "      <td>In what countries are most of our jobs offered?</td>\n",
       "      <td>0.0</td>\n",
       "      <td>NaN</td>\n",
       "      <td>NaN</td>\n",
       "      <td>0.739802</td>\n",
       "      <td>0.0</td>\n",
       "      <td>0.0</td>\n",
       "    </tr>\n",
       "    <tr>\n",
       "      <th>1</th>\n",
       "      <td>What is the churn rate of a scout after trying...</td>\n",
       "      <td>[WITH UserData AS (\\n  SELECT\\n    ur.user_id,...</td>\n",
       "      <td></td>\n",
       "      <td>What is the churn rate of a scout after trying...</td>\n",
       "      <td>0.0</td>\n",
       "      <td>NaN</td>\n",
       "      <td>NaN</td>\n",
       "      <td>0.714260</td>\n",
       "      <td>0.0</td>\n",
       "      <td>0.0</td>\n",
       "    </tr>\n",
       "  </tbody>\n",
       "</table>\n",
       "</div>"
      ],
      "text/plain": [
       "                                          user_input  \\\n",
       "0    In what countries are most of our jobs offered?   \n",
       "1  What is the churn rate of a scout after trying...   \n",
       "\n",
       "                                  retrieved_contexts response  \\\n",
       "0  [SELECT t.country_name AS Country, COUNT(*) AS...            \n",
       "1  [WITH UserData AS (\\n  SELECT\\n    ur.user_id,...            \n",
       "\n",
       "                                           reference  context_recall  \\\n",
       "0    In what countries are most of our jobs offered?             0.0   \n",
       "1  What is the churn rate of a scout after trying...             0.0   \n",
       "\n",
       "   factual_correctness  faithfulness  semantic_similarity  context_precision  \\\n",
       "0                  NaN           NaN             0.739802                0.0   \n",
       "1                  NaN           NaN             0.714260                0.0   \n",
       "\n",
       "   answer_relevancy  \n",
       "0               0.0  \n",
       "1               0.0  "
      ]
     },
     "execution_count": 75,
     "metadata": {},
     "output_type": "execute_result"
    }
   ],
   "source": [
    "df_eval"
   ]
  },
  {
   "cell_type": "markdown",
   "metadata": {},
   "source": [
    "# Metric 1:"
   ]
  },
  {
   "cell_type": "code",
   "execution_count": null,
   "metadata": {},
   "outputs": [],
   "source": []
  },
  {
   "cell_type": "markdown",
   "metadata": {},
   "source": [
    "# Threshold Selection Metric 1:\n"
   ]
  },
  {
   "cell_type": "code",
   "execution_count": null,
   "metadata": {},
   "outputs": [],
   "source": []
  },
  {
   "cell_type": "markdown",
   "metadata": {},
   "source": [
    "# Metric 2:"
   ]
  },
  {
   "cell_type": "code",
   "execution_count": null,
   "metadata": {},
   "outputs": [],
   "source": []
  },
  {
   "cell_type": "markdown",
   "metadata": {},
   "source": [
    "# Threshold Selection Metric 2:"
   ]
  },
  {
   "cell_type": "code",
   "execution_count": null,
   "metadata": {},
   "outputs": [],
   "source": []
  },
  {
   "cell_type": "markdown",
   "metadata": {},
   "source": [
    "# Metrics Analysis:"
   ]
  },
  {
   "cell_type": "code",
   "execution_count": null,
   "metadata": {},
   "outputs": [],
   "source": []
  },
  {
   "cell_type": "markdown",
   "metadata": {},
   "source": [
    "# Conclusion and Findings:"
   ]
  },
  {
   "cell_type": "code",
   "execution_count": null,
   "metadata": {},
   "outputs": [],
   "source": []
  }
 ],
 "metadata": {
  "kernelspec": {
   "display_name": "env",
   "language": "python",
   "name": "python3"
  },
  "language_info": {
   "codemirror_mode": {
    "name": "ipython",
    "version": 3
   },
   "file_extension": ".py",
   "mimetype": "text/x-python",
   "name": "python",
   "nbconvert_exporter": "python",
   "pygments_lexer": "ipython3",
   "version": "3.12.5"
  }
 },
 "nbformat": 4,
 "nbformat_minor": 2
}
